{
 "cells": [
  {
   "cell_type": "code",
   "execution_count": 1,
   "metadata": {},
   "outputs": [
    {
     "name": "stderr",
     "output_type": "stream",
     "text": [
      "Using TensorFlow backend.\n"
     ]
    }
   ],
   "source": [
    "import warnings\n",
    "warnings.filterwarnings(\"ignore\")\n",
    "import numpy as np\n",
    "import os\n",
    "import math\n",
    "import pandas as pd\n",
    "import matplotlib.pyplot as plt\n",
    "from scipy import misc\n",
    "from sklearn.model_selection import train_test_split\n",
    "from sklearn.preprocessing import LabelBinarizer\n",
    "from sklearn.preprocessing import LabelEncoder\n",
    "from sklearn.metrics import confusion_matrix\n",
    "from sklearn.metrics import f1_score\n",
    "from matplotlib.pyplot import imshow\n",
    "from PIL import Image\n",
    "# from __future__ import print_function\n",
    "from sklearn.utils import shuffle\n",
    "import cv2\n",
    "import h5py\n",
    "from keras.models import Sequential\n",
    "from keras.layers.core import Dense, Activation, Flatten, Dropout\n",
    "from keras.layers.convolutional import Convolution2D\n",
    "from keras.layers.pooling import MaxPooling2D\n",
    "import keras\n",
    "from keras.models import load_model\n",
    "from keras.preprocessing.image import ImageDataGenerator\n",
    "import tensorflow as tf\n",
    "from sklearn.model_selection import GridSearchCV\n",
    "import time"
   ]
  },
  {
   "cell_type": "code",
   "execution_count": 2,
   "metadata": {},
   "outputs": [],
   "source": [
    "if not os.path.exists('models'):\n",
    "    os.makedirs('models')\n",
    "\n",
    "if not os.path.exists('submissions'):\n",
    "    os.makedirs('submissions')\n",
    "\n",
    "if not os.path.exists('weights'):\n",
    "    os.makedirs('weights')"
   ]
  },
  {
   "cell_type": "code",
   "execution_count": 2,
   "metadata": {},
   "outputs": [],
   "source": [
    "def data_train_extraction(folder_train):\n",
    "    imagepaths = [x for x in os.walk(folder_train)][0][-1]\n",
    "    return imagepaths"
   ]
  },
  {
   "cell_type": "code",
   "execution_count": 3,
   "metadata": {},
   "outputs": [],
   "source": [
    "train_images = data_train_extraction('data/train')"
   ]
  },
  {
   "cell_type": "code",
   "execution_count": 4,
   "metadata": {},
   "outputs": [
    {
     "data": {
      "text/plain": [
       "['f70aaa64.jpg',\n",
       " '35f84fc5.jpg',\n",
       " '738fb42a.jpg',\n",
       " 'd37be89b.jpg',\n",
       " '5e001fc8.jpg',\n",
       " 'a733423a.jpg',\n",
       " '0cd6cc7b.jpg',\n",
       " '5660bdff.jpg',\n",
       " '6833e195.jpg',\n",
       " '71177634.jpg']"
      ]
     },
     "execution_count": 4,
     "metadata": {},
     "output_type": "execute_result"
    }
   ],
   "source": [
    "train_images[:10]"
   ]
  },
  {
   "cell_type": "code",
   "execution_count": 5,
   "metadata": {},
   "outputs": [
    {
     "data": {
      "text/plain": [
       "9850"
      ]
     },
     "execution_count": 5,
     "metadata": {},
     "output_type": "execute_result"
    }
   ],
   "source": [
    "len(train_images)"
   ]
  },
  {
   "cell_type": "code",
   "execution_count": 6,
   "metadata": {},
   "outputs": [],
   "source": [
    "test_images = data_train_extraction('data/test')"
   ]
  },
  {
   "cell_type": "code",
   "execution_count": 7,
   "metadata": {},
   "outputs": [
    {
     "data": {
      "text/plain": [
       "['0540d585.jpg',\n",
       " '18b7d686.jpg',\n",
       " '112f3797.jpg',\n",
       " '678f4374.jpg',\n",
       " '4d87a7e6.jpg',\n",
       " '3b0e146d.jpg',\n",
       " '040c2a16.jpg',\n",
       " 'f80301ba.jpg',\n",
       " 'b5514c4d.jpg',\n",
       " 'ae7383a9.jpg']"
      ]
     },
     "execution_count": 7,
     "metadata": {},
     "output_type": "execute_result"
    }
   ],
   "source": [
    "test_images[:10]"
   ]
  },
  {
   "cell_type": "code",
   "execution_count": 8,
   "metadata": {},
   "outputs": [
    {
     "data": {
      "text/plain": [
       "15610"
      ]
     },
     "execution_count": 8,
     "metadata": {},
     "output_type": "execute_result"
    }
   ],
   "source": [
    "len(test_images)"
   ]
  },
  {
   "cell_type": "code",
   "execution_count": 2,
   "metadata": {},
   "outputs": [],
   "source": [
    "df = pd.read_csv('data/train_ensemble_1.csv')"
   ]
  },
  {
   "cell_type": "code",
   "execution_count": 5,
   "metadata": {},
   "outputs": [
    {
     "data": {
      "text/plain": [
       "0       7.23408e-25\n",
       "1       1.18829e-19\n",
       "10      2.40977e-19\n",
       "100     1.52415e-19\n",
       "1000    3.72193e-21\n",
       "1001    4.86154e-20\n",
       "1002    1.72457e-15\n",
       "1003    1.39533e-20\n",
       "1004     1.2144e-22\n",
       "1005    1.67695e-20\n",
       "1006    2.98968e-21\n",
       "1007     7.8178e-17\n",
       "1008    1.31949e-18\n",
       "1009    3.85863e-23\n",
       "101     1.18887e-21\n",
       "1010    1.40081e-21\n",
       "1011    7.45547e-24\n",
       "1012    3.37846e-22\n",
       "1013    1.78414e-16\n",
       "1014     3.4699e-20\n",
       "1015    3.72192e-17\n",
       "1016       1.53e-12\n",
       "1017    1.42563e-20\n",
       "1018    6.63625e-18\n",
       "1019    6.07814e-20\n",
       "102      4.9265e-23\n",
       "1020    2.96534e-21\n",
       "1021     1.6271e-19\n",
       "1022    6.18329e-23\n",
       "1023    4.50322e-14\n",
       "           ...     \n",
       "973      4.2645e-20\n",
       "974     5.04264e-20\n",
       "975     5.15001e-23\n",
       "976     2.14121e-18\n",
       "977     1.11758e-11\n",
       "978     5.40322e-23\n",
       "979     2.76246e-20\n",
       "98      2.54521e-18\n",
       "980      6.7418e-19\n",
       "981      6.3543e-21\n",
       "982      2.6679e-19\n",
       "983     1.54916e-20\n",
       "984     1.32193e-16\n",
       "985     6.23271e-20\n",
       "986     6.74374e-20\n",
       "987     8.56526e-17\n",
       "988     1.95402e-11\n",
       "989     1.76669e-18\n",
       "99      2.03974e-20\n",
       "990     3.66814e-13\n",
       "991     1.20738e-20\n",
       "992      9.8381e-22\n",
       "993     6.16832e-27\n",
       "994     7.97902e-22\n",
       "995     4.23908e-17\n",
       "996     3.10448e-19\n",
       "997     2.80633e-20\n",
       "998     9.08827e-17\n",
       "999     2.29933e-21\n",
       "Id        w_0013924\n",
       "dtype: object"
      ]
     },
     "execution_count": 5,
     "metadata": {},
     "output_type": "execute_result"
    }
   ],
   "source": [
    "df.min()"
   ]
  },
  {
   "cell_type": "code",
   "execution_count": 11,
   "metadata": {},
   "outputs": [],
   "source": [
    "ImageToLabelDict = dict(zip( df['Image'], df['Id']))"
   ]
  },
  {
   "cell_type": "code",
   "execution_count": 12,
   "metadata": {},
   "outputs": [
    {
     "data": {
      "text/plain": [
       "['f70aaa64.jpg', '35f84fc5.jpg', '738fb42a.jpg', 'd37be89b.jpg']"
      ]
     },
     "execution_count": 12,
     "metadata": {},
     "output_type": "execute_result"
    }
   ],
   "source": [
    "train_images[:4]"
   ]
  },
  {
   "cell_type": "code",
   "execution_count": 13,
   "metadata": {},
   "outputs": [],
   "source": [
    "# ImageToLabelDict"
   ]
  },
  {
   "cell_type": "code",
   "execution_count": 14,
   "metadata": {},
   "outputs": [],
   "source": [
    "sorted_image = list()\n",
    "for img in train_images:\n",
    "    sorted_image.append(ImageToLabelDict[img])"
   ]
  },
  {
   "cell_type": "code",
   "execution_count": 15,
   "metadata": {},
   "outputs": [],
   "source": [
    "df_train = pd.DataFrame({'Image': train_images, 'Id': sorted_image})"
   ]
  },
  {
   "cell_type": "code",
   "execution_count": 16,
   "metadata": {},
   "outputs": [
    {
     "data": {
      "text/html": [
       "<div>\n",
       "<table border=\"1\" class=\"dataframe\">\n",
       "  <thead>\n",
       "    <tr style=\"text-align: right;\">\n",
       "      <th></th>\n",
       "      <th>Id</th>\n",
       "      <th>Image</th>\n",
       "    </tr>\n",
       "  </thead>\n",
       "  <tbody>\n",
       "    <tr>\n",
       "      <th>4789</th>\n",
       "      <td>w_da2efe0</td>\n",
       "      <td>00087b01.jpg</td>\n",
       "    </tr>\n",
       "  </tbody>\n",
       "</table>\n",
       "</div>"
      ],
      "text/plain": [
       "             Id         Image\n",
       "4789  w_da2efe0  00087b01.jpg"
      ]
     },
     "execution_count": 16,
     "metadata": {},
     "output_type": "execute_result"
    }
   ],
   "source": [
    "df_train[df_train['Image'] == '00087b01.jpg']"
   ]
  },
  {
   "cell_type": "code",
   "execution_count": 17,
   "metadata": {},
   "outputs": [],
   "source": [
    "df_train = df_train[df_train['Id'] != 'new_whale']"
   ]
  },
  {
   "cell_type": "code",
   "execution_count": 18,
   "metadata": {},
   "outputs": [
    {
     "data": {
      "text/plain": [
       "(9040, 2)"
      ]
     },
     "execution_count": 18,
     "metadata": {},
     "output_type": "execute_result"
    }
   ],
   "source": [
    "df_train.shape"
   ]
  },
  {
   "cell_type": "code",
   "execution_count": 19,
   "metadata": {},
   "outputs": [],
   "source": [
    "def resize_image(path, resolution):\n",
    "    img = cv2.imread(path)\n",
    "    (b, g, r) = cv2.split(img)\n",
    "    img = cv2.merge([r, g, b])\n",
    "    image = misc.imresize(img, (resolution, resolution), mode=None)\n",
    "    return image\n",
    "\n",
    "def normalize_scale(image_data):\n",
    "    a = -0.5\n",
    "    b = 0.5\n",
    "    scale_min = 0\n",
    "    scale_max = 255\n",
    "    return a + (((image_data - scale_min) * (b - a)) / (scale_max - scale_min))\n",
    "\n",
    "def normalize_images(X_train, X_test, array_test):\n",
    "    X_normalized = normalize_scale(X_train)\n",
    "    X_normalized_test = normalize_scale(X_test)\n",
    "    test_normalized = normalize_scale(array_test)\n",
    "\n",
    "    return X_normalized, X_normalized_test, test_normalized\n",
    "\n",
    "def predict_5_better(test_preds_vector):\n",
    "    most_proba = list()\n",
    "    maxi_1 = max(test_preds_vector)\n",
    "    maxi_1_value = np.where(test_preds_vector == maxi_1)[0]\n",
    "    most_proba.append(int(maxi_1_value))\n",
    "    siguientes_2 = test_preds_vector[np.where(test_preds_vector != maxi_1)[0]]\n",
    "\n",
    "    maxi_2 = max(siguientes_2)\n",
    "    maxi_2_value = np.where(test_preds_vector == maxi_2)[0]\n",
    "    most_proba.append(int(maxi_2_value))\n",
    "    siguientes_3 = siguientes_2[np.where(siguientes_2 != maxi_2)[0]]\n",
    "\n",
    "    maxi_3 = max(siguientes_3)\n",
    "    maxi_3_value = np.where(test_preds_vector == maxi_3)[0]\n",
    "    most_proba.append(int(maxi_3_value))\n",
    "    siguientes_4 = siguientes_3[np.where(siguientes_3 != maxi_3)[0]]\n",
    "\n",
    "    maxi_4 = max(siguientes_4)\n",
    "    maxi_4_value = np.where(test_preds_vector == maxi_4)[0]\n",
    "    most_proba.append(int(maxi_4_value))\n",
    "    siguientes_5 = siguientes_4[np.where(siguientes_4 != maxi_4)[0]]\n",
    "\n",
    "    maxi_5 = max(siguientes_5)\n",
    "    maxi_5_value = np.where(test_preds_vector == maxi_5)[0]\n",
    "    most_proba.append(int(maxi_5_value))\n",
    "    \n",
    "    most_proba = np.array(most_proba)\n",
    "    \n",
    "    return most_proba\n",
    "\n",
    "def predict_4_better(test_preds_vector):\n",
    "    most_proba = list()\n",
    "    maxi_1 = max(test_preds_vector)\n",
    "    maxi_1_value = np.where(test_preds_vector == maxi_1)[0]\n",
    "    most_proba.append(int(maxi_1_value))\n",
    "    siguientes_2 = test_preds_vector[np.where(test_preds_vector != maxi_1)[0]]\n",
    "\n",
    "    maxi_2 = max(siguientes_2)\n",
    "    maxi_2_value = np.where(test_preds_vector == maxi_2)[0]\n",
    "    most_proba.append(int(maxi_2_value))\n",
    "    siguientes_3 = siguientes_2[np.where(siguientes_2 != maxi_2)[0]]\n",
    "\n",
    "    maxi_3 = max(siguientes_3)\n",
    "    maxi_3_value = np.where(test_preds_vector == maxi_3)[0]\n",
    "    most_proba.append(int(maxi_3_value))\n",
    "    siguientes_4 = siguientes_3[np.where(siguientes_3 != maxi_3)[0]]\n",
    "\n",
    "    maxi_4 = max(siguientes_4)\n",
    "    maxi_4_value = np.where(test_preds_vector == maxi_4)[0]\n",
    "    most_proba.append(int(maxi_4_value[0]))\n",
    "    \n",
    "    most_proba = np.array(most_proba)\n",
    "    \n",
    "    return most_proba\n",
    "\n",
    "def submit(name, test_preds):\n",
    "    with open('submissions/{}.csv'.format(name),'w') as f:\n",
    "        with warnings.catch_warnings():\n",
    "            f.write(\"Image,Id\\n\")\n",
    "            warnings.filterwarnings(\"ignore\",category=DeprecationWarning)\n",
    "            n = 0\n",
    "            for image in test_images:\n",
    "                n += 1\n",
    "                label_arg = predict_4_better(test_preds[n-1])\n",
    "                preds = label_enconder.inverse_transform(label_arg)\n",
    "                preds = ['new_whale'] + preds.tolist()\n",
    "                predicted_tags = \" \".join( preds)\n",
    "                f.write(\"%s,%s\\n\" %(image, predicted_tags))\n",
    "    f.close()"
   ]
  },
  {
   "cell_type": "code",
   "execution_count": 21,
   "metadata": {},
   "outputs": [],
   "source": [
    "train_img = np.array([resize_image('data/train/'+str(img), 32) for img in df_train['Image']])"
   ]
  },
  {
   "cell_type": "code",
   "execution_count": 22,
   "metadata": {},
   "outputs": [],
   "source": [
    "# train_img"
   ]
  },
  {
   "cell_type": "code",
   "execution_count": 23,
   "metadata": {},
   "outputs": [],
   "source": [
    "X = train_img"
   ]
  },
  {
   "cell_type": "code",
   "execution_count": 20,
   "metadata": {},
   "outputs": [],
   "source": [
    "y = df_train['Id']"
   ]
  },
  {
   "cell_type": "code",
   "execution_count": 25,
   "metadata": {},
   "outputs": [],
   "source": [
    "test_img = np.array([resize_image('data/test/'+str(img), 32) for img in test_images])"
   ]
  },
  {
   "cell_type": "code",
   "execution_count": 27,
   "metadata": {},
   "outputs": [],
   "source": [
    "X_train, X_test, y_train, y_test = train_test_split(X,\n",
    "                                                    y,\n",
    "                                                    test_size=0.2,\n",
    "                                                    random_state=42)"
   ]
  },
  {
   "cell_type": "code",
   "execution_count": 28,
   "metadata": {},
   "outputs": [],
   "source": [
    "X_normalized, X_normalized_test, test_normalized = normalize_images(X, X_test, test_img)"
   ]
  },
  {
   "cell_type": "code",
   "execution_count": 21,
   "metadata": {},
   "outputs": [],
   "source": [
    "label_binarizer = LabelBinarizer()\n",
    "label_enconder = LabelEncoder()\n",
    "y_label = label_enconder.fit_transform(y)\n",
    "y_one_hot = label_binarizer.fit_transform(y_label)\n",
    "# y_one_hot_test = label_binarizer.fit_transform(y_test)"
   ]
  },
  {
   "cell_type": "code",
   "execution_count": 30,
   "metadata": {},
   "outputs": [
    {
     "data": {
      "text/plain": [
       "array([[0, 0, 0, ..., 0, 0, 0],\n",
       "       [0, 0, 0, ..., 0, 0, 0],\n",
       "       [0, 0, 0, ..., 0, 0, 0],\n",
       "       ...,\n",
       "       [0, 0, 0, ..., 0, 0, 0],\n",
       "       [0, 0, 0, ..., 0, 0, 0],\n",
       "       [0, 0, 0, ..., 0, 0, 0]])"
      ]
     },
     "execution_count": 30,
     "metadata": {},
     "output_type": "execute_result"
    }
   ],
   "source": [
    "y_one_hot"
   ]
  },
  {
   "cell_type": "code",
   "execution_count": 34,
   "metadata": {},
   "outputs": [],
   "source": [
    "n_output = len(df_train['Id'].unique())"
   ]
  },
  {
   "cell_type": "code",
   "execution_count": 35,
   "metadata": {},
   "outputs": [
    {
     "name": "stdout",
     "output_type": "stream",
     "text": [
      "Epoch 1/50\n",
      "250/250 [==============================] - 4s 16ms/step - loss: 8.3471 - acc: 1.0000e-03\n",
      "Epoch 2/50\n",
      "250/250 [==============================] - 3s 11ms/step - loss: 8.3292 - acc: 0.0025\n",
      "Epoch 3/50\n",
      "250/250 [==============================] - 3s 11ms/step - loss: 8.3419 - acc: 0.0045\n",
      "Epoch 4/50\n",
      "250/250 [==============================] - 3s 11ms/step - loss: 8.3694 - acc: 0.0015\n",
      "Epoch 5/50\n",
      "250/250 [==============================] - 3s 13ms/step - loss: 8.2278 - acc: 0.0035\n",
      "Epoch 6/50\n",
      "250/250 [==============================] - 3s 11ms/step - loss: 8.0479 - acc: 0.0035\n",
      "Epoch 7/50\n",
      "250/250 [==============================] - 3s 11ms/step - loss: 8.0630 - acc: 0.0035\n",
      "Epoch 8/50\n",
      "250/250 [==============================] - 3s 11ms/step - loss: 8.1039 - acc: 0.0030\n",
      "Epoch 00008: early stopping\n",
      "Epoch 1/100\n",
      "9040/9040 [==============================] - 7s 746us/step - loss: 7.9744 - acc: 0.0039\n",
      "Epoch 2/100\n",
      "9040/9040 [==============================] - 7s 751us/step - loss: 7.9187 - acc: 0.0040\n",
      "Epoch 3/100\n",
      "9040/9040 [==============================] - 7s 748us/step - loss: 7.8692 - acc: 0.0045\n",
      "Epoch 4/100\n",
      "9040/9040 [==============================] - 7s 754us/step - loss: 7.8211 - acc: 0.0050\n",
      "Epoch 5/100\n",
      "9040/9040 [==============================] - 7s 770us/step - loss: 7.7603 - acc: 0.0054\n",
      "Epoch 6/100\n",
      "9040/9040 [==============================] - 7s 753us/step - loss: 7.6903 - acc: 0.0052\n",
      "Epoch 7/100\n",
      "9040/9040 [==============================] - 7s 747us/step - loss: 7.6191 - acc: 0.0056\n",
      "Epoch 8/100\n",
      "9040/9040 [==============================] - 7s 744us/step - loss: 7.5267 - acc: 0.0075\n",
      "Epoch 9/100\n",
      "9040/9040 [==============================] - 7s 746us/step - loss: 7.4314 - acc: 0.0083\n",
      "Epoch 10/100\n",
      "9040/9040 [==============================] - 7s 748us/step - loss: 7.3225 - acc: 0.0082\n",
      "Epoch 11/100\n",
      "9040/9040 [==============================] - 7s 756us/step - loss: 7.2145 - acc: 0.0081\n",
      "Epoch 12/100\n",
      "9040/9040 [==============================] - 7s 760us/step - loss: 7.1092 - acc: 0.0097\n",
      "Epoch 13/100\n",
      "9040/9040 [==============================] - 7s 748us/step - loss: 7.0264 - acc: 0.0102\n",
      "Epoch 14/100\n",
      "9040/9040 [==============================] - 7s 749us/step - loss: 6.9362 - acc: 0.0124\n",
      "Epoch 15/100\n",
      "9040/9040 [==============================] - 7s 750us/step - loss: 6.8465 - acc: 0.0107\n",
      "Epoch 16/100\n",
      "9040/9040 [==============================] - 7s 752us/step - loss: 6.7618 - acc: 0.0123\n",
      "Epoch 17/100\n",
      "9040/9040 [==============================] - 7s 749us/step - loss: 6.6745 - acc: 0.0144\n",
      "Epoch 18/100\n",
      "9040/9040 [==============================] - 7s 750us/step - loss: 6.5760 - acc: 0.0143\n",
      "Epoch 19/100\n",
      "9040/9040 [==============================] - 7s 748us/step - loss: 6.5089 - acc: 0.0157\n",
      "Epoch 20/100\n",
      "9040/9040 [==============================] - 7s 749us/step - loss: 6.4070 - acc: 0.0160\n",
      "Epoch 21/100\n",
      "9040/9040 [==============================] - 7s 758us/step - loss: 6.3319 - acc: 0.0185\n",
      "Epoch 22/100\n",
      "9040/9040 [==============================] - 7s 756us/step - loss: 6.2740 - acc: 0.0186\n",
      "Epoch 23/100\n",
      "9040/9040 [==============================] - 7s 749us/step - loss: 6.1561 - acc: 0.0231\n",
      "Epoch 24/100\n",
      "9040/9040 [==============================] - 7s 748us/step - loss: 6.0983 - acc: 0.0236\n",
      "Epoch 25/100\n",
      "9040/9040 [==============================] - 7s 748us/step - loss: 6.0163 - acc: 0.0272\n",
      "Epoch 26/100\n",
      "9040/9040 [==============================] - 7s 752us/step - loss: 5.9353 - acc: 0.0252\n",
      "Epoch 27/100\n",
      "9040/9040 [==============================] - 7s 751us/step - loss: 5.8643 - acc: 0.0309\n",
      "Epoch 28/100\n",
      "9040/9040 [==============================] - 7s 747us/step - loss: 5.8010 - acc: 0.0315\n",
      "Epoch 29/100\n",
      "9040/9040 [==============================] - 7s 750us/step - loss: 5.7275 - acc: 0.0358\n",
      "Epoch 30/100\n",
      "9040/9040 [==============================] - 7s 749us/step - loss: 5.6704 - acc: 0.0338\n",
      "Epoch 31/100\n",
      "9040/9040 [==============================] - 7s 750us/step - loss: 5.5881 - acc: 0.0386\n",
      "Epoch 32/100\n",
      "9040/9040 [==============================] - 7s 749us/step - loss: 5.5575 - acc: 0.0454\n",
      "Epoch 33/100\n",
      "9040/9040 [==============================] - 7s 747us/step - loss: 5.4835 - acc: 0.0418\n",
      "Epoch 34/100\n",
      "9040/9040 [==============================] - 7s 751us/step - loss: 5.4286 - acc: 0.0479\n",
      "Epoch 35/100\n",
      "9040/9040 [==============================] - 7s 752us/step - loss: 5.3669 - acc: 0.0513\n",
      "Epoch 36/100\n",
      "9040/9040 [==============================] - 7s 755us/step - loss: 5.2916 - acc: 0.0514\n",
      "Epoch 37/100\n",
      "9040/9040 [==============================] - 7s 755us/step - loss: 5.2588 - acc: 0.0554\n",
      "Epoch 38/100\n",
      "9040/9040 [==============================] - 7s 772us/step - loss: 5.1609 - acc: 0.0576\n",
      "Epoch 39/100\n",
      "9040/9040 [==============================] - 7s 767us/step - loss: 5.1089 - acc: 0.0664\n",
      "Epoch 40/100\n",
      "9040/9040 [==============================] - 7s 765us/step - loss: 5.0974 - acc: 0.0654\n",
      "Epoch 41/100\n",
      "9040/9040 [==============================] - 7s 766us/step - loss: 5.0296 - acc: 0.0718\n",
      "Epoch 42/100\n",
      "9040/9040 [==============================] - 7s 769us/step - loss: 4.9480 - acc: 0.0768\n",
      "Epoch 43/100\n",
      "9040/9040 [==============================] - 7s 772us/step - loss: 4.9243 - acc: 0.0719\n",
      "Epoch 44/100\n",
      "9040/9040 [==============================] - 7s 769us/step - loss: 4.8836 - acc: 0.0778\n",
      "Epoch 45/100\n",
      "9040/9040 [==============================] - 7s 780us/step - loss: 4.8543 - acc: 0.0812\n",
      "Epoch 46/100\n",
      "9040/9040 [==============================] - 7s 774us/step - loss: 4.7872 - acc: 0.0868\n",
      "Epoch 47/100\n",
      "9040/9040 [==============================] - 7s 771us/step - loss: 4.7690 - acc: 0.0878\n",
      "Epoch 48/100\n",
      "9040/9040 [==============================] - 7s 763us/step - loss: 4.7190 - acc: 0.0882\n",
      "Epoch 49/100\n",
      "9040/9040 [==============================] - 7s 769us/step - loss: 4.6691 - acc: 0.0982\n",
      "Epoch 50/100\n",
      "9040/9040 [==============================] - 7s 769us/step - loss: 4.6579 - acc: 0.0940\n",
      "Epoch 51/100\n",
      "9040/9040 [==============================] - 7s 771us/step - loss: 4.6040 - acc: 0.0956\n",
      "Epoch 52/100\n",
      "9040/9040 [==============================] - 7s 767us/step - loss: 4.5617 - acc: 0.1011\n",
      "Epoch 53/100\n",
      "9040/9040 [==============================] - 7s 769us/step - loss: 4.4890 - acc: 0.1122\n",
      "Epoch 54/100\n",
      "9040/9040 [==============================] - 7s 777us/step - loss: 4.5071 - acc: 0.1091\n",
      "Epoch 55/100\n",
      "9040/9040 [==============================] - 7s 781us/step - loss: 4.4234 - acc: 0.1196\n",
      "Epoch 56/100\n",
      "9040/9040 [==============================] - 7s 788us/step - loss: 4.4050 - acc: 0.1135\n",
      "Epoch 57/100\n",
      "9040/9040 [==============================] - 7s 794us/step - loss: 4.3669 - acc: 0.1277\n",
      "Epoch 58/100\n",
      "9040/9040 [==============================] - 7s 778us/step - loss: 4.3315 - acc: 0.1269\n",
      "Epoch 59/100\n",
      "9040/9040 [==============================] - 7s 766us/step - loss: 4.3065 - acc: 0.1283\n",
      "Epoch 60/100\n",
      "9040/9040 [==============================] - 7s 768us/step - loss: 4.2869 - acc: 0.1290\n",
      "Epoch 61/100\n",
      "9040/9040 [==============================] - 7s 766us/step - loss: 4.2544 - acc: 0.1314\n",
      "Epoch 62/100\n",
      "9040/9040 [==============================] - 7s 763us/step - loss: 4.2312 - acc: 0.1367\n",
      "Epoch 63/100\n",
      "9040/9040 [==============================] - 7s 761us/step - loss: 4.1968 - acc: 0.1428\n",
      "Epoch 64/100\n",
      "9040/9040 [==============================] - 7s 763us/step - loss: 4.1523 - acc: 0.1486\n",
      "Epoch 65/100\n",
      "9040/9040 [==============================] - 7s 766us/step - loss: 4.1104 - acc: 0.1508\n",
      "Epoch 66/100\n",
      "9040/9040 [==============================] - 7s 796us/step - loss: 4.0976 - acc: 0.1509\n",
      "Epoch 67/100\n",
      "9040/9040 [==============================] - 7s 815us/step - loss: 4.0726 - acc: 0.1545\n",
      "Epoch 68/100\n",
      "9040/9040 [==============================] - 7s 787us/step - loss: 4.0301 - acc: 0.1616\n",
      "Epoch 69/100\n",
      "9040/9040 [==============================] - 7s 790us/step - loss: 4.0384 - acc: 0.1549\n",
      "Epoch 70/100\n",
      "9040/9040 [==============================] - 7s 783us/step - loss: 4.0105 - acc: 0.1621\n",
      "Epoch 71/100\n",
      "9040/9040 [==============================] - 7s 807us/step - loss: 3.9503 - acc: 0.1689\n",
      "Epoch 72/100\n",
      "9040/9040 [==============================] - 7s 801us/step - loss: 3.9296 - acc: 0.1751\n",
      "Epoch 73/100\n",
      "9040/9040 [==============================] - 7s 800us/step - loss: 3.9357 - acc: 0.1646\n",
      "Epoch 74/100\n",
      "9040/9040 [==============================] - 7s 789us/step - loss: 3.8750 - acc: 0.1762\n",
      "Epoch 75/100\n",
      "9040/9040 [==============================] - 7s 770us/step - loss: 3.8845 - acc: 0.1762\n",
      "Epoch 76/100\n",
      "9040/9040 [==============================] - 7s 778us/step - loss: 3.8621 - acc: 0.1746\n",
      "Epoch 77/100\n",
      "9040/9040 [==============================] - 7s 789us/step - loss: 3.8189 - acc: 0.1835\n",
      "Epoch 78/100\n",
      "9040/9040 [==============================] - 7s 775us/step - loss: 3.7789 - acc: 0.1864\n",
      "Epoch 79/100\n",
      "9040/9040 [==============================] - 7s 775us/step - loss: 3.7585 - acc: 0.1945\n",
      "Epoch 80/100\n",
      "9040/9040 [==============================] - 7s 772us/step - loss: 3.7203 - acc: 0.1983\n",
      "Epoch 81/100\n",
      "9040/9040 [==============================] - 7s 768us/step - loss: 3.7564 - acc: 0.1894\n",
      "Epoch 82/100\n",
      "9040/9040 [==============================] - 7s 766us/step - loss: 3.7333 - acc: 0.1944\n",
      "Epoch 83/100\n",
      "9040/9040 [==============================] - 7s 768us/step - loss: 3.7060 - acc: 0.2053\n",
      "Epoch 84/100\n",
      "9040/9040 [==============================] - 7s 760us/step - loss: 3.6740 - acc: 0.1992\n",
      "Epoch 85/100\n",
      "9040/9040 [==============================] - 7s 753us/step - loss: 3.6717 - acc: 0.2013\n",
      "Epoch 86/100\n",
      "9040/9040 [==============================] - 7s 746us/step - loss: 3.6539 - acc: 0.2046\n",
      "Epoch 87/100\n",
      "9040/9040 [==============================] - 7s 752us/step - loss: 3.6462 - acc: 0.2124\n",
      "Epoch 88/100\n",
      "9040/9040 [==============================] - 7s 750us/step - loss: 3.5748 - acc: 0.2167\n",
      "Epoch 89/100\n",
      "9040/9040 [==============================] - 7s 748us/step - loss: 3.5854 - acc: 0.2223\n",
      "Epoch 90/100\n",
      "9040/9040 [==============================] - 7s 756us/step - loss: 3.5830 - acc: 0.2187\n",
      "Epoch 91/100\n",
      "9040/9040 [==============================] - 7s 749us/step - loss: 3.5430 - acc: 0.2175\n",
      "Epoch 92/100\n",
      "9040/9040 [==============================] - 7s 743us/step - loss: 3.5369 - acc: 0.2157\n",
      "Epoch 93/100\n",
      "9040/9040 [==============================] - 7s 749us/step - loss: 3.4955 - acc: 0.2341\n",
      "Epoch 94/100\n",
      "9040/9040 [==============================] - 7s 759us/step - loss: 3.4864 - acc: 0.2313\n",
      "Epoch 95/100\n",
      "9040/9040 [==============================] - 7s 756us/step - loss: 3.5247 - acc: 0.2190\n",
      "Epoch 96/100\n",
      "9040/9040 [==============================] - 7s 754us/step - loss: 3.4594 - acc: 0.2302\n",
      "Epoch 97/100\n",
      "9040/9040 [==============================] - 7s 754us/step - loss: 3.4506 - acc: 0.2330\n",
      "Epoch 98/100\n",
      "9040/9040 [==============================] - 7s 760us/step - loss: 3.4580 - acc: 0.2351\n",
      "Epoch 99/100\n",
      "9040/9040 [==============================] - 7s 756us/step - loss: 3.3943 - acc: 0.2473\n",
      "Epoch 100/100\n",
      "9040/9040 [==============================] - 7s 757us/step - loss: 3.3980 - acc: 0.2486\n"
     ]
    },
    {
     "ename": "TypeError",
     "evalue": "unsupported operand type(s) for /: 'str' and 'int'",
     "output_type": "error",
     "traceback": [
      "\u001b[0;31m---------------------------------------------------------------------------\u001b[0m",
      "\u001b[0;31mTypeError\u001b[0m                                 Traceback (most recent call last)",
      "\u001b[0;32m<ipython-input-35-b6dcc6ecc9b1>\u001b[0m in \u001b[0;36m<module>\u001b[0;34m()\u001b[0m\n\u001b[1;32m     54\u001b[0m \u001b[0mmodel\u001b[0m\u001b[0;34m.\u001b[0m\u001b[0msave\u001b[0m\u001b[0;34m(\u001b[0m\u001b[0;34m'models/{}.h5'\u001b[0m\u001b[0;34m.\u001b[0m\u001b[0mformat\u001b[0m\u001b[0;34m(\u001b[0m\u001b[0mmodel_name\u001b[0m\u001b[0;34m)\u001b[0m\u001b[0;34m)\u001b[0m\u001b[0;34m\u001b[0m\u001b[0m\n\u001b[1;32m     55\u001b[0m \u001b[0;34m\u001b[0m\u001b[0m\n\u001b[0;32m---> 56\u001b[0;31m \u001b[0mprint\u001b[0m\u001b[0;34m(\u001b[0m\u001b[0;34m'Training time: {} min'\u001b[0m\u001b[0;34m.\u001b[0m\u001b[0mformat\u001b[0m\u001b[0;34m(\u001b[0m\u001b[0mround\u001b[0m\u001b[0;34m(\u001b[0m\u001b[0mtime\u001b[0m\u001b[0;34m.\u001b[0m\u001b[0mtime\u001b[0m\u001b[0;34m(\u001b[0m\u001b[0;34m)\u001b[0m\u001b[0;34m-\u001b[0m\u001b[0mt0\u001b[0m\u001b[0;34m)\u001b[0m\u001b[0;34m,\u001b[0m\u001b[0;36m4\u001b[0m\u001b[0;34m)\u001b[0m\u001b[0;34m/\u001b[0m\u001b[0;36m60\u001b[0m\u001b[0;34m)\u001b[0m\u001b[0;34m\u001b[0m\u001b[0m\n\u001b[0m",
      "\u001b[0;31mTypeError\u001b[0m: unsupported operand type(s) for /: 'str' and 'int'"
     ]
    }
   ],
   "source": [
    "t0 = time.time()\n",
    "\n",
    "model_name = 'model_whitout_new_whale_32_3'\n",
    "\n",
    "model = Sequential()\n",
    "model.add(Convolution2D(16, 4, 4, input_shape=(32, 32, 3), activation=\"relu\"))\n",
    "model.add(MaxPooling2D((2, 2)))\n",
    "model.add(Dropout(0.2))\n",
    "model.add(Convolution2D(32, 4, 4, activation=\"relu\"))\n",
    "model.add(MaxPooling2D((2, 2)))\n",
    "model.add(Dropout(0.2))\n",
    "model.add(Convolution2D(64, 4, 4, activation=\"relu\"))\n",
    "model.add(MaxPooling2D((2, 2)))\n",
    "model.add(Dropout(0.2))\n",
    "model.add(Flatten())\n",
    "model.add(Dense(128, activation=\"relu\"))\n",
    "model.add(Dropout(0.25))\n",
    "model.add(Dense(n_output, activation=\"softmax\"))\n",
    "\n",
    "BATCH_SIZE = 8\n",
    "EPOCHS = 50\n",
    "model.compile('adam', 'categorical_crossentropy', ['accuracy'])\n",
    "gen = ImageDataGenerator(\n",
    "rotation_range=20,\n",
    "# featurewise_center=True,\n",
    "# featurewise_std_normalization=True,\n",
    "width_shift_range=0.2,\n",
    "height_shift_range=0.2,\n",
    "zoom_range=0,\n",
    "horizontal_flip=True,\n",
    "vertical_flip=True\n",
    ")\n",
    "\n",
    "earlyStopping = keras.callbacks.EarlyStopping(monitor='acc', patience=5, verbose=1, mode='auto')\n",
    "\n",
    "model.fit_generator(gen.flow(X_normalized, y_one_hot, batch_size=BATCH_SIZE),\n",
    "                    steps_per_epoch=250,\n",
    "                    epochs=EPOCHS,\n",
    "                    verbose=1,\n",
    "                    callbacks=[earlyStopping],\n",
    "                   )\n",
    "\n",
    "\n",
    "history = model.fit(X_normalized,\n",
    "y_one_hot,\n",
    "# steps_per_epoch=100,\n",
    "epochs=100,\n",
    "verbose=1,\n",
    "callbacks=[earlyStopping],\n",
    "# batch_size=BATCH_SIZE\n",
    ")\n",
    "\n",
    "model.save_weights('weights/{}.h5'.format(model_name))\n",
    "model.save('models/{}.h5'.format(model_name))\n",
    "\n",
    "print('Training time: {} min'.format(round((time.time()-t0)/60, 4)))"
   ]
  },
  {
   "cell_type": "code",
   "execution_count": 31,
   "metadata": {},
   "outputs": [],
   "source": [
    "# model = load_model('models/first_model.h5')\n",
    "# model.load_weights('weights/first_model.h5')"
   ]
  },
  {
   "cell_type": "code",
   "execution_count": 132,
   "metadata": {},
   "outputs": [],
   "source": [
    "test_preds = model.predict_proba(test_normalized)"
   ]
  },
  {
   "cell_type": "code",
   "execution_count": 133,
   "metadata": {},
   "outputs": [
    {
     "name": "stdout",
     "output_type": "stream",
     "text": [
      "Submit prediction in: 15 secs\n"
     ]
    }
   ],
   "source": [
    "t0 = time.time()\n",
    "submit('third_submission', test_preds)\n",
    "print('Submit prediction in: {} secs'.format(round(time.time()-t0),4))"
   ]
  },
  {
   "cell_type": "code",
   "execution_count": null,
   "metadata": {},
   "outputs": [],
   "source": []
  },
  {
   "cell_type": "markdown",
   "metadata": {},
   "source": [
    "Method for sorting faster than np.argsort()"
   ]
  },
  {
   "cell_type": "code",
   "execution_count": 111,
   "metadata": {},
   "outputs": [
    {
     "name": "stdout",
     "output_type": "stream",
     "text": [
      "time elapsed: 0.002024412155151367 secs\n",
      "[ 266 1488 1716 1861  286]\n"
     ]
    }
   ],
   "source": [
    "t0 = time.time()\n",
    "\n",
    "most_proba = list()\n",
    "pred_prueba = test_preds[0]\n",
    "\n",
    "maxi_1 = max(pred_prueba)\n",
    "maxi_1_value = np.where(pred_prueba == maxi_1)[0]\n",
    "most_proba.append(int(maxi_1_value))\n",
    "siguientes_2 = test_preds[0][np.where(pred_prueba != maxi_1)[0]]\n",
    "\n",
    "maxi_2 = max(siguientes_2)\n",
    "maxi_2_value = np.where(pred_prueba == maxi_2)[0]\n",
    "most_proba.append(int(maxi_2_value))\n",
    "siguientes_3 = siguientes_2[np.where(siguientes_2 != maxi_2)[0]]\n",
    "\n",
    "maxi_3 = max(siguientes_3)\n",
    "maxi_3_value = np.where(pred_prueba == maxi_3)[0]\n",
    "most_proba.append(int(maxi_3_value))\n",
    "siguientes_4 = siguientes_3[np.where(siguientes_3 != maxi_3)[0]]\n",
    "\n",
    "maxi_4 = max(siguientes_4)\n",
    "maxi_4_value = np.where(pred_prueba == maxi_4)[0]\n",
    "most_proba.append(int(maxi_4_value))\n",
    "siguientes_5 = siguientes_4[np.where(siguientes_4 != maxi_4)[0]]\n",
    "\n",
    "maxi_5 = max(siguientes_5)\n",
    "maxi_5_value = np.where(pred_prueba == maxi_5)[0]\n",
    "most_proba.append(int(maxi_5_value))\n",
    "# siguientes_5 = siguientes_4[np.where(siguientes_4 != maxi_4)[0]]\n",
    "print('time elapsed: {} secs'.format(time.time()-t0))\n",
    "most_proba = np.array(most_proba)\n",
    "print(most_proba)"
   ]
  },
  {
   "cell_type": "code",
   "execution_count": 112,
   "metadata": {},
   "outputs": [
    {
     "name": "stdout",
     "output_type": "stream",
     "text": [
      "time elapsed: 3.4980714321136475 secs\n"
     ]
    }
   ],
   "source": [
    "t0 = time.time()\n",
    "np.argsort(test_preds)[0][::-1][:5]\n",
    "print('time elapsed: {} secs'.format(time.time()-t0))"
   ]
  },
  {
   "cell_type": "markdown",
   "metadata": {},
   "source": [
    "\\>> 1000 time faster"
   ]
  },
  {
   "cell_type": "code",
   "execution_count": 113,
   "metadata": {},
   "outputs": [
    {
     "data": {
      "text/plain": [
       "array([ 266, 1488, 1716, 1861,  286])"
      ]
     },
     "execution_count": 113,
     "metadata": {},
     "output_type": "execute_result"
    }
   ],
   "source": [
    "vec = predict_5_better(test_preds[0])\n",
    "vec"
   ]
  },
  {
   "cell_type": "code",
   "execution_count": 114,
   "metadata": {},
   "outputs": [
    {
     "name": "stdout",
     "output_type": "stream",
     "text": [
      "[1488]\n"
     ]
    },
    {
     "data": {
      "text/plain": [
       "array([ 266, 1488, 1716, 1861])"
      ]
     },
     "execution_count": 114,
     "metadata": {},
     "output_type": "execute_result"
    }
   ],
   "source": [
    "vec = predict_4_better(test_preds[0])\n",
    "vec"
   ]
  },
  {
   "cell_type": "code",
   "execution_count": null,
   "metadata": {},
   "outputs": [],
   "source": []
  },
  {
   "cell_type": "code",
   "execution_count": null,
   "metadata": {},
   "outputs": [],
   "source": []
  },
  {
   "cell_type": "code",
   "execution_count": null,
   "metadata": {},
   "outputs": [],
   "source": []
  },
  {
   "cell_type": "markdown",
   "metadata": {},
   "source": [
    "New models with image shape (56, 56)"
   ]
  },
  {
   "cell_type": "code",
   "execution_count": 47,
   "metadata": {},
   "outputs": [],
   "source": [
    "train_img = np.array([resize_image('data/train/'+str(img), 56) for img in df_train['Image']])"
   ]
  },
  {
   "cell_type": "code",
   "execution_count": 48,
   "metadata": {},
   "outputs": [],
   "source": [
    "X = train_img"
   ]
  },
  {
   "cell_type": "code",
   "execution_count": 23,
   "metadata": {},
   "outputs": [],
   "source": [
    "y = df_train['Id']"
   ]
  },
  {
   "cell_type": "code",
   "execution_count": 49,
   "metadata": {},
   "outputs": [],
   "source": [
    "test_img = np.array([resize_image('data/test/'+str(img), 56) for img in test_images])"
   ]
  },
  {
   "cell_type": "code",
   "execution_count": 102,
   "metadata": {},
   "outputs": [
    {
     "ename": "NameError",
     "evalue": "name 'X' is not defined",
     "output_type": "error",
     "traceback": [
      "\u001b[0;31m---------------------------------------------------------------------------\u001b[0m",
      "\u001b[0;31mNameError\u001b[0m                                 Traceback (most recent call last)",
      "\u001b[0;32m<ipython-input-102-fa243ff84b9d>\u001b[0m in \u001b[0;36m<module>\u001b[0;34m()\u001b[0m\n\u001b[0;32m----> 1\u001b[0;31m \u001b[0mX_normalized\u001b[0m\u001b[0;34m,\u001b[0m \u001b[0mX_normalized_test\u001b[0m\u001b[0;34m,\u001b[0m \u001b[0mtest_normalized\u001b[0m \u001b[0;34m=\u001b[0m \u001b[0mnormalize_images\u001b[0m\u001b[0;34m(\u001b[0m\u001b[0mX\u001b[0m\u001b[0;34m,\u001b[0m \u001b[0mX\u001b[0m\u001b[0;34m,\u001b[0m \u001b[0mtest_img\u001b[0m\u001b[0;34m)\u001b[0m\u001b[0;34m\u001b[0m\u001b[0m\n\u001b[0m",
      "\u001b[0;31mNameError\u001b[0m: name 'X' is not defined"
     ]
    }
   ],
   "source": [
    "X_normalized, X_normalized_test, test_normalized = normalize_images(X, X, test_img)"
   ]
  },
  {
   "cell_type": "code",
   "execution_count": 26,
   "metadata": {},
   "outputs": [],
   "source": [
    "label_binarizer = LabelBinarizer()\n",
    "label_enconder = LabelEncoder()\n",
    "y_label = label_enconder.fit_transform(y)\n",
    "y_one_hot = label_binarizer.fit_transform(y_label)"
   ]
  },
  {
   "cell_type": "code",
   "execution_count": 50,
   "metadata": {},
   "outputs": [],
   "source": [
    "np.savez('data/array_data/X_train_200', X)\n",
    "np.savez('data/array_data/X_test_200', test_img)"
   ]
  },
  {
   "cell_type": "code",
   "execution_count": 24,
   "metadata": {},
   "outputs": [],
   "source": [
    "X_train = np.load('data/array_data/X_train_56.npz')['arr_0']"
   ]
  },
  {
   "cell_type": "code",
   "execution_count": 28,
   "metadata": {},
   "outputs": [],
   "source": [
    "X_test = np.load('data/array_data/X_test_56.npz')['arr_0']"
   ]
  },
  {
   "cell_type": "code",
   "execution_count": 104,
   "metadata": {},
   "outputs": [],
   "source": [
    "X_normalized, X_normalized_test, test_normalized = normalize_images(X_train, X_train, X_train)"
   ]
  },
  {
   "cell_type": "code",
   "execution_count": 113,
   "metadata": {},
   "outputs": [
    {
     "data": {
      "text/plain": [
       "<matplotlib.image.AxesImage at 0x7f36be5820f0>"
      ]
     },
     "execution_count": 113,
     "metadata": {},
     "output_type": "execute_result"
    },
    {
     "data": {
      "image/png": "[encoded data removed]",
      "text/plain": [
       "<matplotlib.figure.Figure at 0x7f36be6275f8>"
      ]
     },
     "metadata": {},
     "output_type": "display_data"
    }
   ],
   "source": [
    "plt.imshow(X_train[1000])"
   ]
  },
  {
   "cell_type": "code",
   "execution_count": 114,
   "metadata": {},
   "outputs": [],
   "source": [
    "laplacian = cv2.Laplacian(X_train[1000],cv2.CV_64F)"
   ]
  },
  {
   "cell_type": "code",
   "execution_count": 115,
   "metadata": {},
   "outputs": [
    {
     "data": {
      "text/plain": [
       "<matplotlib.image.AxesImage at 0x7f36be563940>"
      ]
     },
     "execution_count": 115,
     "metadata": {},
     "output_type": "execute_result"
    },
    {
     "data": {
      "image/png": "[encoded data removed]",
      "text/plain": [
       "<matplotlib.figure.Figure at 0x7f36be592f98>"
      ]
     },
     "metadata": {},
     "output_type": "display_data"
    }
   ],
   "source": [
    "plt.imshow(laplacian)"
   ]
  },
  {
   "cell_type": "code",
   "execution_count": 153,
   "metadata": {},
   "outputs": [],
   "source": [
    "ret,thresh1 = cv2.threshold(X_train[100],127,255,cv2.THRESH_BINARY)\n",
    "ret,thresh2 = cv2.threshold(X_train[1000],127,255,cv2.THRESH_BINARY_INV)\n",
    "ret,thresh3 = cv2.threshold(X_train[1000],127,255,cv2.THRESH_TRUNC)\n",
    "ret,thresh4 = cv2.threshold(X_train[1000],100,200,cv2.THRESH_TOZERO)\n",
    "ret,thresh5 = cv2.threshold(X_train[1000],127,255,cv2.THRESH_TOZERO_INV)"
   ]
  },
  {
   "cell_type": "code",
   "execution_count": 181,
   "metadata": {},
   "outputs": [],
   "source": [
    "X_grey = [cv2.cvtColor(i, cv2.COLOR_BGR2GRAY) for i in X_train]"
   ]
  },
  {
   "cell_type": "code",
   "execution_count": 194,
   "metadata": {},
   "outputs": [],
   "source": [
    "X_grey = np.array(X_grey)"
   ]
  },
  {
   "cell_type": "code",
   "execution_count": 195,
   "metadata": {},
   "outputs": [],
   "source": [
    "X_normalized_grey, X_normalized_test, test_normalized = normalize_images(X_grey, X_grey, X_grey)"
   ]
  },
  {
   "cell_type": "code",
   "execution_count": 198,
   "metadata": {},
   "outputs": [
    {
     "data": {
      "text/plain": [
       "<matplotlib.image.AxesImage at 0x7f369d41d710>"
      ]
     },
     "execution_count": 198,
     "metadata": {},
     "output_type": "execute_result"
    },
    {
     "data": {
      "image/png": "[encoded data removed]",
      "text/plain": [
       "<matplotlib.figure.Figure at 0x7f369d46cc50>"
      ]
     },
     "metadata": {},
     "output_type": "display_data"
    }
   ],
   "source": [
    "plt.imshow(X_grey[1000])"
   ]
  },
  {
   "cell_type": "code",
   "execution_count": 199,
   "metadata": {},
   "outputs": [
    {
     "data": {
      "text/plain": [
       "<matplotlib.image.AxesImage at 0x7f369d3ddf98>"
      ]
     },
     "execution_count": 199,
     "metadata": {},
     "output_type": "execute_result"
    },
    {
     "data": {
      "image/png": "[encoded data removed]",
      "text/plain": [
       "<matplotlib.figure.Figure at 0x7f369d42fd68>"
      ]
     },
     "metadata": {},
     "output_type": "display_data"
    }
   ],
   "source": [
    "plt.imshow(X_normalized_grey[1000])"
   ]
  },
  {
   "cell_type": "code",
   "execution_count": 205,
   "metadata": {},
   "outputs": [
    {
     "data": {
      "text/plain": [
       "56"
      ]
     },
     "execution_count": 205,
     "metadata": {},
     "output_type": "execute_result"
    }
   ],
   "source": [
    "len(X_grey[0])"
   ]
  },
  {
   "cell_type": "code",
   "execution_count": 27,
   "metadata": {},
   "outputs": [],
   "source": [
    "model_load = load_model('models/model_whitout_new_whale_56_2.h5')\n",
    "model_load.load_weights('weights/model_whitout_new_whale_56_2.h5')"
   ]
  },
  {
   "cell_type": "code",
   "execution_count": 28,
   "metadata": {},
   "outputs": [],
   "source": [
    "test_preds = model_load.predict_proba(test_normalized)"
   ]
  },
  {
   "cell_type": "code",
   "execution_count": 29,
   "metadata": {},
   "outputs": [],
   "source": [
    "# for i in test_preds:\n",
    "#     print(max(i))"
   ]
  },
  {
   "cell_type": "code",
   "execution_count": 63,
   "metadata": {},
   "outputs": [],
   "source": [
    "def predict_new_5_better(test_preds_vector, thr = 0.5):\n",
    "    most_proba = list()\n",
    "    maxi_1 = max(test_preds_vector)\n",
    "    if maxi_1 < thr:\n",
    "        most_proba.append('new_whale')\n",
    "    else:\n",
    "        maxi_1_value = np.where(test_preds_vector == maxi_1)[0]\n",
    "        most_proba.append(int(maxi_1_value))\n",
    "    siguientes_2 = test_preds_vector[np.where(test_preds_vector != maxi_1)[0]]\n",
    "\n",
    "    maxi_2 = max(siguientes_2)\n",
    "    maxi_2_value = np.where(test_preds_vector == maxi_2)[0]\n",
    "    most_proba.append(int(maxi_2_value))\n",
    "    siguientes_3 = siguientes_2[np.where(siguientes_2 != maxi_2)[0]]\n",
    "\n",
    "    maxi_3 = max(siguientes_3)\n",
    "    maxi_3_value = np.where(test_preds_vector == maxi_3)[0]\n",
    "    most_proba.append(int(maxi_3_value))\n",
    "    siguientes_4 = siguientes_3[np.where(siguientes_3 != maxi_3)[0]]\n",
    "\n",
    "    maxi_4 = max(siguientes_4)\n",
    "    maxi_4_value = np.where(test_preds_vector == maxi_4)[0]\n",
    "    most_proba.append(int(maxi_4_value[0]))\n",
    "    siguientes_5 = siguientes_4[np.where(siguientes_4 != maxi_4)[0]]\n",
    "\n",
    "    maxi_5 = max(siguientes_5)\n",
    "    maxi_5_value = np.where(test_preds_vector == maxi_5)[0]\n",
    "    most_proba.append(int(maxi_5_value))\n",
    "    \n",
    "    most_proba = np.array(most_proba)\n",
    "    \n",
    "    return most_proba\n",
    "\n",
    "def new_submit(name, test_preds, thr = 0.5):\n",
    "    with open('submissions/{}.csv'.format(name),'w') as f:\n",
    "        with warnings.catch_warnings():\n",
    "            f.write(\"Image,Id\\n\")\n",
    "            warnings.filterwarnings(\"ignore\",category=DeprecationWarning)\n",
    "            n = 0\n",
    "            for image in test_images:\n",
    "                n += 1\n",
    "                label_arg = predict_new_5_better(test_preds[n-1], thr)\n",
    "                if label_arg[0] == 'new_whale':\n",
    "                    preds = label_enconder.inverse_transform(list(map(int, label_arg[1:])))\n",
    "                    preds = ['new_whale'] + preds.tolist()\n",
    "                else:\n",
    "                    preds = label_enconder.inverse_transform(label_arg)\n",
    "                predicted_tags = \" \".join( preds)\n",
    "                f.write(\"%s,%s\\n\" %(image, predicted_tags))\n",
    "    f.close()"
   ]
  },
  {
   "cell_type": "code",
   "execution_count": 37,
   "metadata": {},
   "outputs": [
    {
     "name": "stdout",
     "output_type": "stream",
     "text": [
      "Submit prediction in: 18.0 secs\n"
     ]
    }
   ],
   "source": [
    "t0 = time.time()\n",
    "new_submit('submission_56_thr_09', test_preds, 0.9)\n",
    "print('Submit prediction in: {} secs'.format(round(time.time()-t0,1)))"
   ]
  },
  {
   "cell_type": "code",
   "execution_count": 45,
   "metadata": {},
   "outputs": [],
   "source": [
    "n_output = len(df_train['Id'].unique())"
   ]
  },
  {
   "cell_type": "code",
   "execution_count": 47,
   "metadata": {
    "scrolled": true
   },
   "outputs": [
    {
     "name": "stdout",
     "output_type": "stream",
     "text": [
      "Epoch 1/70\n",
      "9040/9040 [==============================] - 12s 1ms/step - loss: 8.6597 - acc: 0.0030\n",
      "Epoch 2/70\n",
      "9040/9040 [==============================] - 11s 1ms/step - loss: 8.2354 - acc: 0.0038\n",
      "Epoch 3/70\n",
      "9040/9040 [==============================] - 11s 1ms/step - loss: 8.0950 - acc: 0.0058\n",
      "Epoch 4/70\n",
      "9040/9040 [==============================] - 11s 1ms/step - loss: 7.8747 - acc: 0.0074\n",
      "Epoch 5/70\n",
      "9040/9040 [==============================] - 11s 1ms/step - loss: 7.4692 - acc: 0.0118\n",
      "Epoch 6/70\n",
      "9040/9040 [==============================] - 11s 1ms/step - loss: 6.7845 - acc: 0.0358\n",
      "Epoch 7/70\n",
      "9040/9040 [==============================] - 11s 1ms/step - loss: 5.8359 - acc: 0.0924\n",
      "Epoch 8/70\n",
      "9040/9040 [==============================] - 11s 1ms/step - loss: 4.9429 - acc: 0.1980\n",
      "Epoch 9/70\n",
      "9040/9040 [==============================] - 11s 1ms/step - loss: 4.2326 - acc: 0.3023\n",
      "Epoch 10/70\n",
      "9040/9040 [==============================] - 11s 1ms/step - loss: 3.6788 - acc: 0.3897\n",
      "Epoch 11/70\n",
      "9040/9040 [==============================] - 11s 1ms/step - loss: 3.2499 - acc: 0.4514\n",
      "Epoch 12/70\n",
      "9040/9040 [==============================] - 11s 1ms/step - loss: 2.8979 - acc: 0.5114\n",
      "Epoch 13/70\n",
      "9040/9040 [==============================] - 12s 1ms/step - loss: 2.6044 - acc: 0.5567\n",
      "Epoch 14/70\n",
      "9040/9040 [==============================] - 11s 1ms/step - loss: 2.3506 - acc: 0.5987\n",
      "Epoch 15/70\n",
      "9040/9040 [==============================] - 12s 1ms/step - loss: 2.1472 - acc: 0.6313\n",
      "Epoch 16/70\n",
      "9040/9040 [==============================] - 12s 1ms/step - loss: 1.9677 - acc: 0.6628\n",
      "Epoch 17/70\n",
      "9040/9040 [==============================] - 12s 1ms/step - loss: 1.8033 - acc: 0.6923\n",
      "Epoch 18/70\n",
      "9040/9040 [==============================] - 11s 1ms/step - loss: 1.6506 - acc: 0.7165\n",
      "Epoch 19/70\n",
      "9040/9040 [==============================] - 11s 1ms/step - loss: 1.5309 - acc: 0.7367\n",
      "Epoch 20/70\n",
      "9040/9040 [==============================] - 11s 1ms/step - loss: 1.4256 - acc: 0.7569\n",
      "Epoch 21/70\n",
      "9040/9040 [==============================] - 11s 1ms/step - loss: 1.3203 - acc: 0.7764\n",
      "Epoch 22/70\n",
      "9040/9040 [==============================] - 11s 1ms/step - loss: 1.2340 - acc: 0.7903\n",
      "Epoch 23/70\n",
      "9040/9040 [==============================] - 11s 1ms/step - loss: 1.1489 - acc: 0.8035\n",
      "Epoch 24/70\n",
      "9040/9040 [==============================] - 11s 1ms/step - loss: 1.0763 - acc: 0.8138\n",
      "Epoch 25/70\n",
      "9040/9040 [==============================] - 11s 1ms/step - loss: 1.0067 - acc: 0.8246\n",
      "Epoch 26/70\n",
      "9040/9040 [==============================] - 11s 1ms/step - loss: 0.9613 - acc: 0.8314\n",
      "Epoch 27/70\n",
      "9040/9040 [==============================] - 11s 1ms/step - loss: 0.8949 - acc: 0.8435\n",
      "Epoch 28/70\n",
      "9040/9040 [==============================] - 11s 1ms/step - loss: 0.8375 - acc: 0.8556\n",
      "Epoch 29/70\n",
      "9040/9040 [==============================] - 11s 1ms/step - loss: 0.7934 - acc: 0.8617\n",
      "Epoch 30/70\n",
      "9040/9040 [==============================] - 11s 1ms/step - loss: 0.7510 - acc: 0.8700\n",
      "Epoch 31/70\n",
      "9040/9040 [==============================] - 11s 1ms/step - loss: 0.7207 - acc: 0.8710\n",
      "Epoch 32/70\n",
      "9040/9040 [==============================] - 11s 1ms/step - loss: 0.6780 - acc: 0.8821\n",
      "Epoch 33/70\n",
      "9040/9040 [==============================] - 11s 1ms/step - loss: 0.6397 - acc: 0.8920\n",
      "Epoch 34/70\n",
      "9040/9040 [==============================] - 11s 1ms/step - loss: 0.6070 - acc: 0.8939\n",
      "Epoch 35/70\n",
      "9040/9040 [==============================] - 12s 1ms/step - loss: 0.5835 - acc: 0.8989\n",
      "Epoch 36/70\n",
      "9040/9040 [==============================] - 12s 1ms/step - loss: 0.5558 - acc: 0.9025\n",
      "Epoch 37/70\n",
      "9040/9040 [==============================] - 11s 1ms/step - loss: 0.5366 - acc: 0.9063\n",
      "Epoch 38/70\n",
      "9040/9040 [==============================] - 11s 1ms/step - loss: 0.4998 - acc: 0.9146\n",
      "Epoch 39/70\n",
      "9040/9040 [==============================] - 11s 1ms/step - loss: 0.4862 - acc: 0.9153\n",
      "Epoch 40/70\n",
      "9040/9040 [==============================] - 11s 1ms/step - loss: 0.4597 - acc: 0.9212\n",
      "Epoch 41/70\n",
      "9040/9040 [==============================] - 11s 1ms/step - loss: 0.4375 - acc: 0.9242\n",
      "Epoch 42/70\n",
      "9040/9040 [==============================] - 11s 1ms/step - loss: 0.4241 - acc: 0.9263\n",
      "Epoch 43/70\n",
      "9040/9040 [==============================] - 11s 1ms/step - loss: 0.4006 - acc: 0.9329\n",
      "Epoch 44/70\n",
      "9040/9040 [==============================] - 12s 1ms/step - loss: 0.3895 - acc: 0.9338\n",
      "Epoch 45/70\n",
      "9040/9040 [==============================] - 12s 1ms/step - loss: 0.3713 - acc: 0.9375\n",
      "Epoch 46/70\n",
      "9040/9040 [==============================] - 12s 1ms/step - loss: 0.3600 - acc: 0.9383\n",
      "Epoch 47/70\n",
      "9040/9040 [==============================] - 12s 1ms/step - loss: 0.3433 - acc: 0.9444\n",
      "Epoch 48/70\n",
      "9040/9040 [==============================] - 12s 1ms/step - loss: 0.3278 - acc: 0.9468\n",
      "Epoch 49/70\n",
      "9040/9040 [==============================] - 12s 1ms/step - loss: 0.3139 - acc: 0.9483\n",
      "Epoch 50/70\n",
      "9040/9040 [==============================] - 11s 1ms/step - loss: 0.3000 - acc: 0.9514\n",
      "Epoch 51/70\n",
      "9040/9040 [==============================] - 11s 1ms/step - loss: 0.2887 - acc: 0.9514\n",
      "Epoch 52/70\n",
      "9040/9040 [==============================] - 11s 1ms/step - loss: 0.2838 - acc: 0.9544\n",
      "Epoch 53/70\n",
      "9040/9040 [==============================] - 11s 1ms/step - loss: 0.2702 - acc: 0.9583\n",
      "Epoch 54/70\n",
      "9040/9040 [==============================] - 12s 1ms/step - loss: 0.2549 - acc: 0.9588\n",
      "Epoch 55/70\n",
      "9040/9040 [==============================] - 12s 1ms/step - loss: 0.2533 - acc: 0.9591\n",
      "Epoch 56/70\n",
      "9040/9040 [==============================] - 11s 1ms/step - loss: 0.2497 - acc: 0.9602\n",
      "Epoch 57/70\n",
      "9040/9040 [==============================] - 11s 1ms/step - loss: 0.2392 - acc: 0.9614\n",
      "Epoch 58/70\n",
      "9040/9040 [==============================] - 11s 1ms/step - loss: 0.2285 - acc: 0.9648\n",
      "Epoch 59/70\n",
      "9040/9040 [==============================] - 11s 1ms/step - loss: 0.2234 - acc: 0.9623\n",
      "Epoch 60/70\n",
      "9040/9040 [==============================] - 11s 1ms/step - loss: 0.2085 - acc: 0.9660\n",
      "Epoch 61/70\n",
      "9040/9040 [==============================] - 11s 1ms/step - loss: 0.2016 - acc: 0.9691\n",
      "Epoch 62/70\n",
      "9040/9040 [==============================] - 11s 1ms/step - loss: 0.1982 - acc: 0.9679\n",
      "Epoch 63/70\n",
      "9040/9040 [==============================] - 11s 1ms/step - loss: 0.1915 - acc: 0.9676\n",
      "Epoch 64/70\n",
      "9040/9040 [==============================] - 12s 1ms/step - loss: 0.1877 - acc: 0.9697\n",
      "Epoch 65/70\n",
      "9040/9040 [==============================] - 12s 1ms/step - loss: 0.1823 - acc: 0.9732\n",
      "Epoch 66/70\n",
      "9040/9040 [==============================] - 11s 1ms/step - loss: 0.1758 - acc: 0.9710\n",
      "Epoch 67/70\n",
      "9040/9040 [==============================] - 11s 1ms/step - loss: 0.1690 - acc: 0.9753\n",
      "Epoch 68/70\n",
      "9040/9040 [==============================] - 11s 1ms/step - loss: 0.1704 - acc: 0.9709\n",
      "Epoch 69/70\n",
      "9040/9040 [==============================] - 11s 1ms/step - loss: 0.1597 - acc: 0.9748\n",
      "Epoch 70/70\n",
      "9040/9040 [==============================] - 12s 1ms/step - loss: 0.1562 - acc: 0.9742\n",
      "Training time: 13.3951 min\n"
     ]
    }
   ],
   "source": [
    "t0 = time.time()\n",
    "n_output = len(df_train['Id'].unique())\n",
    "\n",
    "model_name = 'model_whitout_new_whale_56_3'\n",
    "\n",
    "model = Sequential()\n",
    "model.add(Convolution2D(4, 3, 3, input_shape=(56, 56, 3), activation=\"relu\"))\n",
    "model.add(MaxPooling2D((2, 2)))\n",
    "model.add(Dropout(0.2))\n",
    "model.add(Convolution2D(8, 4, 4, activation=\"relu\"))\n",
    "model.add(MaxPooling2D((2, 2)))\n",
    "model.add(Dropout(0.2))\n",
    "model.add(Convolution2D(16, 2, 2, activation=\"sigmoid\"))\n",
    "model.add(MaxPooling2D((2, 2)))\n",
    "model.add(Flatten())\n",
    "model.add(Dense(n_output, activation=\"softmax\"))\n",
    "\n",
    "BATCH_SIZE = 8\n",
    "EPOCHS = 50\n",
    "model.compile('adam', 'categorical_crossentropy', ['accuracy'])\n",
    "# gen = ImageDataGenerator(\n",
    "# rotation_range=20,\n",
    "# # featurewise_center=True,\n",
    "# # featurewise_std_normalization=True,\n",
    "# width_shift_range=0.2,\n",
    "# height_shift_range=0.2,\n",
    "# zoom_range=0,\n",
    "# # horizontal_flip=True,\n",
    "# # vertical_flip=True\n",
    "# )\n",
    "\n",
    "earlyStopping = keras.callbacks.EarlyStopping(monitor='acc', patience=5, verbose=1, mode='auto')\n",
    "\n",
    "# model.fit_generator(gen.flow(X_normalized, y_one_hot, batch_size=BATCH_SIZE),\n",
    "#                     steps_per_epoch=250,\n",
    "#                     epochs=EPOCHS,\n",
    "#                     verbose=1,\n",
    "#                     callbacks=[earlyStopping],\n",
    "#                    )\n",
    "\n",
    "\n",
    "history = model.fit(X_normalized,\n",
    "y_one_hot,\n",
    "# steps_per_epoch=100,\n",
    "epochs=70,\n",
    "verbose=1,\n",
    "callbacks=[earlyStopping],\n",
    "# batch_size=BATCH_SIZE\n",
    ")\n",
    "\n",
    "model.save_weights('weights/{}.h5'.format(model_name))\n",
    "model.save('models/{}.h5'.format(model_name))\n",
    "\n",
    "print('Training time: {} min'.format(round((time.time()-t0)/60, 4)))"
   ]
  },
  {
   "cell_type": "code",
   "execution_count": 48,
   "metadata": {},
   "outputs": [],
   "source": [
    "test_preds = model.predict_proba(test_normalized)"
   ]
  },
  {
   "cell_type": "code",
   "execution_count": 57,
   "metadata": {},
   "outputs": [
    {
     "data": {
      "text/plain": [
       "0.9999411"
      ]
     },
     "execution_count": 57,
     "metadata": {},
     "output_type": "execute_result"
    }
   ],
   "source": [
    "test_preds[5].max()"
   ]
  },
  {
   "cell_type": "markdown",
   "metadata": {},
   "source": [
    "submission"
   ]
  },
  {
   "cell_type": "code",
   "execution_count": 62,
   "metadata": {},
   "outputs": [
    {
     "name": "stdout",
     "output_type": "stream",
     "text": [
      "Submit prediction in: 15 secs\n"
     ]
    }
   ],
   "source": [
    "t0 = time.time()\n",
    "submit('third_submission_56', test_preds)\n",
    "print('Submit prediction in: {} secs'.format(round(time.time()-t0),4))"
   ]
  },
  {
   "cell_type": "markdown",
   "metadata": {},
   "source": [
    "with threshold"
   ]
  },
  {
   "cell_type": "code",
   "execution_count": 64,
   "metadata": {},
   "outputs": [
    {
     "name": "stdout",
     "output_type": "stream",
     "text": [
      "Submit prediction in: 19.2 secs\n"
     ]
    }
   ],
   "source": [
    "t0 = time.time()\n",
    "new_submit('submission_56_3_thr_095', test_preds, 0.95)\n",
    "print('Submit prediction in: {} secs'.format(round(time.time()-t0,1)))"
   ]
  },
  {
   "cell_type": "code",
   "execution_count": null,
   "metadata": {},
   "outputs": [],
   "source": []
  },
  {
   "cell_type": "code",
   "execution_count": null,
   "metadata": {},
   "outputs": [],
   "source": []
  },
  {
   "cell_type": "code",
   "execution_count": null,
   "metadata": {},
   "outputs": [],
   "source": []
  },
  {
   "cell_type": "markdown",
   "metadata": {},
   "source": [
    "New models with image shape (128, 128)"
   ]
  },
  {
   "cell_type": "code",
   "execution_count": 55,
   "metadata": {},
   "outputs": [],
   "source": [
    "train_img = np.array([resize_image('data/train/'+str(img), 128) for img in df_train['Image']])"
   ]
  },
  {
   "cell_type": "code",
   "execution_count": 56,
   "metadata": {},
   "outputs": [],
   "source": [
    "# train_img"
   ]
  },
  {
   "cell_type": "code",
   "execution_count": 57,
   "metadata": {},
   "outputs": [],
   "source": [
    "X = train_img"
   ]
  },
  {
   "cell_type": "code",
   "execution_count": 58,
   "metadata": {},
   "outputs": [],
   "source": [
    "y = df_train['Id']"
   ]
  },
  {
   "cell_type": "code",
   "execution_count": 59,
   "metadata": {},
   "outputs": [],
   "source": [
    "test_img = np.array([resize_image('data/test/'+str(img), 128) for img in test_images])"
   ]
  },
  {
   "cell_type": "code",
   "execution_count": 60,
   "metadata": {},
   "outputs": [],
   "source": [
    "X_normalized, X_normalized_test, test_normalized = normalize_images(X, X_test, test_img)"
   ]
  },
  {
   "cell_type": "code",
   "execution_count": 61,
   "metadata": {},
   "outputs": [],
   "source": [
    "label_binarizer = LabelBinarizer()\n",
    "label_enconder = LabelEncoder()\n",
    "y_label = label_enconder.fit_transform(y)\n",
    "y_one_hot = label_binarizer.fit_transform(y_label)"
   ]
  },
  {
   "cell_type": "code",
   "execution_count": 62,
   "metadata": {},
   "outputs": [],
   "source": [
    "n_output = len(df_train['Id'].unique())"
   ]
  },
  {
   "cell_type": "code",
   "execution_count": 65,
   "metadata": {
    "scrolled": true
   },
   "outputs": [
    {
     "name": "stdout",
     "output_type": "stream",
     "text": [
      "Epoch 1/100\n",
      "9040/9040 [==============================] - 71s 8ms/step - loss: 8.3327 - acc: 0.0019\n",
      "Epoch 2/100\n",
      "9040/9040 [==============================] - 71s 8ms/step - loss: 8.0584 - acc: 0.0038\n",
      "Epoch 3/100\n",
      "9040/9040 [==============================] - 71s 8ms/step - loss: 7.8103 - acc: 0.0064\n",
      "Epoch 4/100\n",
      "9040/9040 [==============================] - 70s 8ms/step - loss: 7.3931 - acc: 0.0108\n",
      "Epoch 5/100\n",
      "9040/9040 [==============================] - 70s 8ms/step - loss: 6.8167 - acc: 0.0283\n",
      "Epoch 6/100\n",
      "9040/9040 [==============================] - 70s 8ms/step - loss: 6.0914 - acc: 0.0592\n",
      "Epoch 7/100\n",
      "9040/9040 [==============================] - 71s 8ms/step - loss: 5.2805 - acc: 0.1127\n",
      "Epoch 8/100\n",
      "9040/9040 [==============================] - 71s 8ms/step - loss: 4.5191 - acc: 0.1765\n",
      "Epoch 9/100\n",
      "9040/9040 [==============================] - 71s 8ms/step - loss: 3.8439 - acc: 0.2580\n",
      "Epoch 10/100\n",
      "9040/9040 [==============================] - 71s 8ms/step - loss: 3.3133 - acc: 0.3240\n",
      "Epoch 11/100\n",
      "9040/9040 [==============================] - 71s 8ms/step - loss: 2.9038 - acc: 0.3852\n",
      "Epoch 12/100\n",
      "9040/9040 [==============================] - 71s 8ms/step - loss: 2.5708 - acc: 0.4326\n",
      "Epoch 13/100\n",
      "9040/9040 [==============================] - 71s 8ms/step - loss: 2.2839 - acc: 0.4874\n",
      "Epoch 14/100\n",
      "9040/9040 [==============================] - 71s 8ms/step - loss: 2.0744 - acc: 0.5242\n",
      "Epoch 15/100\n",
      "9040/9040 [==============================] - 72s 8ms/step - loss: 1.8882 - acc: 0.5591\n",
      "Epoch 16/100\n",
      "9040/9040 [==============================] - 71s 8ms/step - loss: 1.7383 - acc: 0.5800\n",
      "Epoch 17/100\n",
      "9040/9040 [==============================] - 71s 8ms/step - loss: 1.5739 - acc: 0.6170\n",
      "Epoch 18/100\n",
      "9040/9040 [==============================] - 71s 8ms/step - loss: 1.4996 - acc: 0.6316\n",
      "Epoch 19/100\n",
      "9040/9040 [==============================] - 73s 8ms/step - loss: 1.4089 - acc: 0.6508\n",
      "Epoch 20/100\n",
      "9040/9040 [==============================] - 71s 8ms/step - loss: 1.3559 - acc: 0.6602\n",
      "Epoch 21/100\n",
      "9040/9040 [==============================] - 71s 8ms/step - loss: 1.2614 - acc: 0.6865\n",
      "Epoch 22/100\n",
      "9040/9040 [==============================] - 71s 8ms/step - loss: 1.1912 - acc: 0.6993\n",
      "Epoch 23/100\n",
      "9040/9040 [==============================] - 71s 8ms/step - loss: 1.1290 - acc: 0.7200\n",
      "Epoch 24/100\n",
      "9040/9040 [==============================] - 71s 8ms/step - loss: 1.0948 - acc: 0.7210\n",
      "Epoch 25/100\n",
      "9040/9040 [==============================] - 71s 8ms/step - loss: 1.0205 - acc: 0.7368\n",
      "Epoch 26/100\n",
      "9040/9040 [==============================] - 71s 8ms/step - loss: 0.9918 - acc: 0.7451\n",
      "Epoch 27/100\n",
      "9040/9040 [==============================] - 71s 8ms/step - loss: 0.9559 - acc: 0.7537\n",
      "Epoch 28/100\n",
      "9040/9040 [==============================] - 71s 8ms/step - loss: 0.8960 - acc: 0.7683\n",
      "Epoch 29/100\n",
      "9040/9040 [==============================] - 71s 8ms/step - loss: 0.9007 - acc: 0.7588\n",
      "Epoch 30/100\n",
      "9040/9040 [==============================] - 71s 8ms/step - loss: 0.8663 - acc: 0.7687\n",
      "Epoch 31/100\n",
      "9040/9040 [==============================] - 71s 8ms/step - loss: 0.8141 - acc: 0.7847\n",
      "Epoch 32/100\n",
      "9040/9040 [==============================] - 71s 8ms/step - loss: 0.7856 - acc: 0.7960\n",
      "Epoch 33/100\n",
      "9040/9040 [==============================] - 71s 8ms/step - loss: 0.7504 - acc: 0.7961\n",
      "Epoch 34/100\n",
      "9040/9040 [==============================] - 71s 8ms/step - loss: 0.7408 - acc: 0.7997\n",
      "Epoch 35/100\n",
      "9040/9040 [==============================] - 71s 8ms/step - loss: 0.7122 - acc: 0.8043\n",
      "Epoch 36/100\n",
      "9040/9040 [==============================] - 71s 8ms/step - loss: 0.7051 - acc: 0.8145\n",
      "Epoch 37/100\n",
      "9040/9040 [==============================] - 72s 8ms/step - loss: 0.6618 - acc: 0.8212\n",
      "Epoch 38/100\n",
      "9040/9040 [==============================] - 71s 8ms/step - loss: 0.6556 - acc: 0.8226\n",
      "Epoch 39/100\n",
      "9040/9040 [==============================] - 70s 8ms/step - loss: 0.6164 - acc: 0.8332\n",
      "Epoch 40/100\n",
      "9040/9040 [==============================] - 71s 8ms/step - loss: 0.5950 - acc: 0.8352\n",
      "Epoch 41/100\n",
      "9040/9040 [==============================] - 71s 8ms/step - loss: 0.5751 - acc: 0.8363\n",
      "Epoch 42/100\n",
      "9040/9040 [==============================] - 71s 8ms/step - loss: 0.5711 - acc: 0.8436\n",
      "Epoch 43/100\n",
      "9040/9040 [==============================] - 71s 8ms/step - loss: 0.5438 - acc: 0.8507\n",
      "Epoch 44/100\n",
      "9040/9040 [==============================] - 71s 8ms/step - loss: 0.5427 - acc: 0.8560\n",
      "Epoch 45/100\n",
      "9040/9040 [==============================] - 71s 8ms/step - loss: 0.5120 - acc: 0.8576\n",
      "Epoch 46/100\n",
      "9040/9040 [==============================] - 71s 8ms/step - loss: 0.5113 - acc: 0.8639\n",
      "Epoch 47/100\n",
      "9040/9040 [==============================] - 71s 8ms/step - loss: 0.4898 - acc: 0.8608\n",
      "Epoch 48/100\n",
      "9040/9040 [==============================] - 71s 8ms/step - loss: 0.4802 - acc: 0.8678\n",
      "Epoch 49/100\n",
      "9040/9040 [==============================] - 71s 8ms/step - loss: 0.4617 - acc: 0.8729\n",
      "Epoch 50/100\n",
      "9040/9040 [==============================] - 72s 8ms/step - loss: 0.4741 - acc: 0.8709\n",
      "Epoch 51/100\n",
      "9040/9040 [==============================] - 72s 8ms/step - loss: 0.4641 - acc: 0.8718\n",
      "Epoch 52/100\n",
      "9040/9040 [==============================] - 72s 8ms/step - loss: 0.4463 - acc: 0.8750\n",
      "Epoch 53/100\n",
      "9040/9040 [==============================] - 71s 8ms/step - loss: 0.4609 - acc: 0.8749\n",
      "Epoch 54/100\n",
      "9040/9040 [==============================] - 71s 8ms/step - loss: 0.4338 - acc: 0.8769\n",
      "Epoch 55/100\n",
      "9040/9040 [==============================] - 71s 8ms/step - loss: 0.4214 - acc: 0.8811\n",
      "Epoch 56/100\n",
      "9040/9040 [==============================] - 71s 8ms/step - loss: 0.4167 - acc: 0.8855\n",
      "Epoch 57/100\n",
      "9040/9040 [==============================] - 72s 8ms/step - loss: 0.3947 - acc: 0.8892\n",
      "Epoch 58/100\n",
      "9040/9040 [==============================] - 71s 8ms/step - loss: 0.4245 - acc: 0.8780\n",
      "Epoch 59/100\n",
      "9040/9040 [==============================] - 71s 8ms/step - loss: 0.3770 - acc: 0.8942\n",
      "Epoch 60/100\n",
      "9040/9040 [==============================] - 71s 8ms/step - loss: 0.3640 - acc: 0.8962\n",
      "Epoch 61/100\n",
      "9040/9040 [==============================] - 71s 8ms/step - loss: 0.3814 - acc: 0.8951\n",
      "Epoch 62/100\n",
      "9040/9040 [==============================] - 71s 8ms/step - loss: 0.3559 - acc: 0.9027\n",
      "Epoch 63/100\n",
      "9040/9040 [==============================] - 71s 8ms/step - loss: 0.3590 - acc: 0.8994\n",
      "Epoch 64/100\n",
      "9040/9040 [==============================] - 71s 8ms/step - loss: 0.3603 - acc: 0.8987\n",
      "Epoch 65/100\n",
      "9040/9040 [==============================] - 71s 8ms/step - loss: 0.3534 - acc: 0.9006\n",
      "Epoch 66/100\n",
      "9040/9040 [==============================] - 72s 8ms/step - loss: 0.3407 - acc: 0.9022\n",
      "Epoch 67/100\n",
      "9040/9040 [==============================] - 71s 8ms/step - loss: 0.3630 - acc: 0.8980\n",
      "Epoch 00067: early stopping\n",
      "Training time: 79.3188 min\n"
     ]
    }
   ],
   "source": [
    "t0 = time.time()\n",
    "\n",
    "model_name = 'model_whitout_new_whale_128_1'\n",
    "\n",
    "model = Sequential()\n",
    "model.add(Convolution2D(16, 4, 4, input_shape=(128, 128, 3), activation=\"relu\"))\n",
    "model.add(MaxPooling2D((2, 2)))\n",
    "model.add(Dropout(0.2))\n",
    "model.add(Convolution2D(32, 4, 4, activation=\"relu\"))\n",
    "model.add(MaxPooling2D((2, 2)))\n",
    "model.add(Dropout(0.2))\n",
    "# model.add(Convolution2D(256, 4, 4, activation=\"relu\"))\n",
    "# model.add(MaxPooling2D((2, 2)))\n",
    "# model.add(Dropout(0.2))\n",
    "model.add(Flatten())\n",
    "model.add(Dense(64, activation=\"relu\"))\n",
    "model.add(Dropout(0.25))\n",
    "model.add(Dense(n_output, activation=\"softmax\"))\n",
    "\n",
    "BATCH_SIZE = 8\n",
    "EPOCHS = 50\n",
    "model.compile('adam', 'categorical_crossentropy', ['accuracy'])\n",
    "# gen = ImageDataGenerator(\n",
    "# rotation_range=20,\n",
    "# # featurewise_center=True,\n",
    "# # featurewise_std_normalization=True,\n",
    "# width_shift_range=0.2,\n",
    "# height_shift_range=0.2,\n",
    "# zoom_range=0,\n",
    "# # horizontal_flip=True,\n",
    "# # vertical_flip=True\n",
    "# )\n",
    "\n",
    "earlyStopping = keras.callbacks.EarlyStopping(monitor='acc', patience=5, verbose=1, mode='auto')\n",
    "\n",
    "# model.fit_generator(gen.flow(X_normalized, y_one_hot, batch_size=BATCH_SIZE),\n",
    "#                     steps_per_epoch=250,\n",
    "#                     epochs=EPOCHS,\n",
    "#                     verbose=1,\n",
    "#                     callbacks=[earlyStopping],\n",
    "#                    )\n",
    "\n",
    "\n",
    "history = model.fit(X_normalized,\n",
    "y_one_hot,\n",
    "# steps_per_epoch=100,\n",
    "epochs=100,\n",
    "verbose=1,\n",
    "callbacks=[earlyStopping],\n",
    "# batch_size=BATCH_SIZE\n",
    ")\n",
    "\n",
    "model.save_weights('weights/{}.h5'.format(model_name))\n",
    "model.save('models/{}.h5'.format(model_name))\n",
    "\n",
    "print('Training time: {} min'.format(round((time.time()-t0)/60, 4)))"
   ]
  },
  {
   "cell_type": "code",
   "execution_count": 66,
   "metadata": {},
   "outputs": [],
   "source": [
    "test_preds = model.predict_proba(test_normalized)"
   ]
  },
  {
   "cell_type": "code",
   "execution_count": 67,
   "metadata": {},
   "outputs": [
    {
     "name": "stdout",
     "output_type": "stream",
     "text": [
      "Submit prediction in: 16 secs\n"
     ]
    }
   ],
   "source": [
    "t0 = time.time()\n",
    "submit('first_submission_128', test_preds)\n",
    "print('Submit prediction in: {} secs'.format(round(time.time()-t0),4))"
   ]
  },
  {
   "cell_type": "code",
   "execution_count": 2,
   "metadata": {},
   "outputs": [],
   "source": [
    "label_encoder = LabelEncoder()\n",
    "label_binarizer = LabelBinarizer()"
   ]
  },
  {
   "cell_type": "code",
   "execution_count": 3,
   "metadata": {},
   "outputs": [],
   "source": [
    "train = pd.read_csv('data/train_ensemble_1.csv')\n",
    "X = train.loc[:, train.columns != 'Id']\n",
    "n_cols = len(X.columns)\n",
    "y = train['Id']\n",
    "\n",
    "# Label encoder y one hot. Necessary for keras models\n",
    "y_label = label_encoder.fit_transform(y)\n",
    "y_one_hot = label_binarizer.fit_transform(y_label)"
   ]
  },
  {
   "cell_type": "code",
   "execution_count": 4,
   "metadata": {},
   "outputs": [],
   "source": [
    "from sklearn.metrics.pairwise import euclidean_distances"
   ]
  },
  {
   "cell_type": "code",
   "execution_count": 49,
   "metadata": {},
   "outputs": [
    {
     "name": "stderr",
     "output_type": "stream",
     "text": [
      "/usr/local/lib/python3.5/dist-packages/sklearn/utils/validation.py:395: DeprecationWarning: Passing 1d arrays as data is deprecated in 0.17 and will raise ValueError in 0.19. Reshape your data either using X.reshape(-1, 1) if your data has a single feature or X.reshape(1, -1) if it contains a single sample.\n",
      "  DeprecationWarning)\n"
     ]
    }
   ],
   "source": [
    "euc_dist = euclidean_distances(X, X.iloc[0,:])"
   ]
  },
  {
   "cell_type": "code",
   "execution_count": 38,
   "metadata": {},
   "outputs": [
    {
     "data": {
      "text/plain": [
       "(array([0]), array([0]))"
      ]
     },
     "execution_count": 38,
     "metadata": {},
     "output_type": "execute_result"
    }
   ],
   "source": [
    "# euc_dist[euc_dist == euc_dist.min()]\n",
    "np.where(euc_dist == euc_dist.min())"
   ]
  },
  {
   "cell_type": "code",
   "execution_count": 56,
   "metadata": {},
   "outputs": [
    {
     "data": {
      "text/plain": [
       "array([12.77837426])"
      ]
     },
     "execution_count": 56,
     "metadata": {},
     "output_type": "execute_result"
    }
   ],
   "source": [
    "euc_dist[9039]"
   ]
  },
  {
   "cell_type": "code",
   "execution_count": 59,
   "metadata": {},
   "outputs": [
    {
     "data": {
      "text/plain": [
       "'w_9d704ab'"
      ]
     },
     "execution_count": 59,
     "metadata": {},
     "output_type": "execute_result"
    }
   ],
   "source": []
  },
  {
   "cell_type": "code",
   "execution_count": 65,
   "metadata": {},
   "outputs": [
    {
     "name": "stdout",
     "output_type": "stream",
     "text": [
      "['new_whale', 'w_9d704ab', 'w_9d704ab', 'w_9d704ab']\n",
      "new_whale w_9d704ab w_9d704ab w_9d704ab\n"
     ]
    },
    {
     "name": "stderr",
     "output_type": "stream",
     "text": [
      "/usr/local/lib/python3.5/dist-packages/sklearn/utils/validation.py:395: DeprecationWarning: Passing 1d arrays as data is deprecated in 0.17 and will raise ValueError in 0.19. Reshape your data either using X.reshape(-1, 1) if your data has a single feature or X.reshape(1, -1) if it contains a single sample.\n",
      "  DeprecationWarning)\n"
     ]
    }
   ],
   "source": [
    "pred = X.iloc[0,:]\n",
    "euc_dist = euclidean_distances(X, pred)\n",
    "most_proba = list()\n",
    "maxi_1 = min(euc_dist)\n",
    "maxi_1_value = np.where(euc_dist == maxi_1)[0]\n",
    "most_proba.append(y[int(maxi_1_value[0])])\n",
    "siguientes_2 = euc_dist[np.where(euc_dist != maxi_1)[0]]\n",
    "\n",
    "maxi_2 = min(siguientes_2)\n",
    "maxi_2_value = np.where(euc_dist == maxi_2)[0]\n",
    "most_proba.append(y[int(maxi_2_value[0])])\n",
    "siguientes_3 = siguientes_2[np.where(siguientes_2 != maxi_2)[0]]\n",
    "\n",
    "maxi_3 = min(siguientes_3)\n",
    "maxi_3_value = np.where(euc_dist == maxi_3)[0]\n",
    "most_proba.append(y[int(maxi_3_value[0])])\n",
    "siguientes_4 = siguientes_3[np.where(siguientes_3 != maxi_3)[0]]\n",
    "\n",
    "# maxi_4 = min(siguientes_4)\n",
    "# maxi_4_value = np.where(euc_dist == maxi_4)[0]\n",
    "# most_proba.append(y[int(maxi_4_value[0])])\n",
    "\n",
    "most_proba = np.array(most_proba)\n",
    "most_proba = ['new_whale'] + most_proba.tolist()\n",
    "\n",
    "print(most_proba)\n",
    "predicted_tags = \" \".join(most_proba)\n",
    "print(predicted_tags)"
   ]
  },
  {
   "cell_type": "code",
   "execution_count": 25,
   "metadata": {},
   "outputs": [
    {
     "data": {
      "text/plain": [
       "array([ 0.        ,  0.96867356,  0.96867356, ..., 16.5515881 ,\n",
       "       16.5515881 , 16.55171293])"
      ]
     },
     "execution_count": 25,
     "metadata": {},
     "output_type": "execute_result"
    }
   ],
   "source": [
    "euc_dist[0]"
   ]
  },
  {
   "cell_type": "code",
   "execution_count": null,
   "metadata": {},
   "outputs": [],
   "source": []
  },
  {
   "cell_type": "code",
   "execution_count": null,
   "metadata": {},
   "outputs": [],
   "source": []
  }
 ],
 "metadata": {
  "kernelspec": {
   "display_name": "Python 3",
   "language": "python",
   "name": "python3"
  },
  "language_info": {
   "codemirror_mode": {
    "name": "ipython",
    "version": 3
   },
   "file_extension": ".py",
   "mimetype": "text/x-python",
   "name": "python",
   "nbconvert_exporter": "python",
   "pygments_lexer": "ipython3",
   "version": "3.5.2"
  }
 },
 "nbformat": 4,
 "nbformat_minor": 1
}
